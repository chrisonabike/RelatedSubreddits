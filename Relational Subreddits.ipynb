{
 "cells": [
  {
   "cell_type": "markdown",
   "metadata": {},
   "source": [
    "<p style=\"font-size:20px\">Import libraries</p>"
   ]
  },
  {
   "cell_type": "code",
   "execution_count": 87,
   "metadata": {
    "collapsed": true
   },
   "outputs": [],
   "source": [
    "import pandas as pd\n",
    "import numpy as np\n",
    "import re\n",
    "import string\n",
    "import operator\n",
    "import gc\n",
    "import matplotlib.pyplot as plt\n",
    "from matplotlib.sankey import Sankey\n",
    "import math\n",
    "%matplotlib inline"
   ]
  },
  {
   "cell_type": "markdown",
   "metadata": {},
   "source": [
    "<p style=\"font-size:20px\">Load the Map Reduced Data ~ 71,935,542 Comments</p>"
   ]
  },
  {
   "cell_type": "code",
   "execution_count": 2,
   "metadata": {
    "collapsed": false
   },
   "outputs": [
    {
     "name": "stdout",
     "output_type": "stream",
     "text": [
      "Wall time: 4min 22s\n"
     ]
    }
   ],
   "source": [
    "%%time\n",
    "mapped_output = []\n",
    "with open (\"..\\part-00000\", \"r\") as myfile:\n",
    "    for line in myfile:\n",
    "        line.replace('\\n','')\n",
    "        sub, auth, count, score = line.split(',')\n",
    "        # Slicing out errant parentheses that were inadvertenty written to the reduced output\n",
    "        mapped_output.append((sub[2:-1].strip(), auth[2:-1].strip(), int(count.strip()), int(score[1:-2].strip())))\n",
    "myfile.close()"
   ]
  },
  {
   "cell_type": "markdown",
   "metadata": {},
   "source": [
    "<p style=\"font-size:20px\">Only consider comments with scores above or below a certain threshold</p>"
   ]
  },
  {
   "cell_type": "code",
   "execution_count": 178,
   "metadata": {
    "collapsed": false
   },
   "outputs": [
    {
     "name": "stdout",
     "output_type": "stream",
     "text": [
      "Original Number of Comments:  71935542\n",
      "Threshold Number of Comments: 20102190\n"
     ]
    }
   ],
   "source": [
    "threshold_comments = []\n",
    "for i in mapped_output:\n",
    "    if i[3] >= 4 or i[3] <= -4:\n",
    "        threshold_comments.append(i)\n",
    "        \n",
    "print(\"Original Number of Comments:  {0}\".format(len(mapped_output)))\n",
    "print(\"Threshold Number of Comments: {0}\".format(len(threshold_comments)))"
   ]
  },
  {
   "cell_type": "markdown",
   "metadata": {},
   "source": [
    "<p style=\"font-size:20px\">Quick check on what the data looks like</p>"
   ]
  },
  {
   "cell_type": "code",
   "execution_count": 13,
   "metadata": {
    "collapsed": false
   },
   "outputs": [
    {
     "name": "stdout",
     "output_type": "stream",
     "text": [
      "('anime', 'metathpr4h', 1, 11)\n",
      "('anime', 'metathpr4h', 1, 191)\n",
      "('anime', 'metathpr4h', 1, 18)\n",
      "('anime', 'metathpr4h', 1, 56)\n",
      "('anime', 'metathpr4h', 1, 50)\n",
      "('anime', 'metathpr4h', 1, 44)\n",
      "('anime', 'metathpr4h', 1, 10)\n",
      "('anime', 'metathpr4h', 1, 28)\n",
      "('anime', 'metathpr4h', 1, 17)\n",
      "('anime', 'metathpr4h', 1, 66)\n"
     ]
    }
   ],
   "source": [
    "for i in threshold_comments[241230:241240]:\n",
    "    print (i)"
   ]
  },
  {
   "cell_type": "markdown",
   "metadata": {},
   "source": [
    "<p style=\"font-size:20px\">Define Reducer Function</p>\n",
    "<p style=\"font-size:15px\">Returns a tuple (subreddit, author, count) where count is number of comments by user in the subreddit</p>"
   ]
  },
  {
   "cell_type": "code",
   "execution_count": 14,
   "metadata": {
    "collapsed": true
   },
   "outputs": [],
   "source": [
    "def reducer(subAuthSorted):\n",
    "    current_info = None\n",
    "    current_count = 0\n",
    "    current_score = 0\n",
    "    info = None\n",
    "    reduced_list = []\n",
    "    score = None\n",
    "    \n",
    "    # input comes from STDIN\n",
    "    for line in subAuthSorted:\n",
    "        info = str(line[0]) + ' ' + str(line[1])\n",
    "        count = 1\n",
    "        score = line[3]\n",
    "\n",
    "        if current_info == info:\n",
    "            current_count += count\n",
    "            current_score += score\n",
    "        else:\n",
    "            if current_info:\n",
    "                reduced_list.append((current_info, current_count, current_score))\n",
    "            current_info = info\n",
    "            current_count = count\n",
    "            current_score = score\n",
    "\n",
    "    # Get the last tuple if needed!\n",
    "    if current_info == info:\n",
    "        current_count += count\n",
    "        current_score += score\n",
    "        reduced_list.append((current_info, current_count, current_score))\n",
    "    \n",
    "    tup_list = []\n",
    "    for i in reduced_list:\n",
    "        sub, auth = i[0].split()\n",
    "        count = i[1]\n",
    "        score = i[2]\n",
    "    \n",
    "        tup_list.append((sub, auth, count, score))\n",
    "    \n",
    "    return tup_list"
   ]
  },
  {
   "cell_type": "markdown",
   "metadata": {},
   "source": [
    "<p style=\"font-size:20px\">Generate Reducer Output</p>"
   ]
  },
  {
   "cell_type": "code",
   "execution_count": 179,
   "metadata": {
    "collapsed": false
   },
   "outputs": [
    {
     "name": "stdout",
     "output_type": "stream",
     "text": [
      "6245692\n",
      "('13reasonswhy', '0xkiss', 1, 5)\n",
      "('13reasonswhy', '100000nopes', 1, 7)\n",
      "('13reasonswhy', '1138bladerunner', 1, 4)\n",
      "('13reasonswhy', '11591481516', 1, 4)\n",
      "('13reasonswhy', '120mmsniper', 2, 11)\n",
      "('13reasonswhy', '123chicken123', 1, 8)\n",
      "('13reasonswhy', '123td1234', 3, 55)\n",
      "('13reasonswhy', '136136', 1, 8)\n",
      "('13reasonswhy', '13pt1run', 19, 341)\n",
      "('13reasonswhy', '13rw96', 1, 6)\n",
      "Wall time: 59.7 s\n"
     ]
    }
   ],
   "source": [
    "%%time\n",
    "reduced_threshold = reducer(threshold_comments)\n",
    "print(len(reduced_threshold))\n",
    "for i in reduced_threshold[2345:2355]:\n",
    "    print (i)"
   ]
  },
  {
   "cell_type": "markdown",
   "metadata": {},
   "source": [
    "<p style=\"font-size:20px\">Secondary Reducer: Count Number of Comments in Each Subreddit</p>"
   ]
  },
  {
   "cell_type": "code",
   "execution_count": 16,
   "metadata": {
    "collapsed": true
   },
   "outputs": [],
   "source": [
    "def subreddit_reducer(subAuthSorted, top_n=10):\n",
    "    current_sub = None\n",
    "    current_count = 0\n",
    "    sub = None\n",
    "    sub_list = []\n",
    "        \n",
    "    for line in subAuthSorted:\n",
    "        \n",
    "        sub = str(line[0])\n",
    "        count = 1\n",
    "\n",
    "        if current_sub == sub:\n",
    "            current_count += count\n",
    "        else:\n",
    "            if current_sub:\n",
    "                sub_list.append((current_sub, current_count))\n",
    "            current_count = count\n",
    "            current_sub = sub\n",
    "\n",
    "    # Get the last tuple if needed\n",
    "    if current_sub == sub:\n",
    "        sub_list.append((current_sub, current_count))\n",
    "  \n",
    "    sub_list.sort(key = operator.itemgetter(1,0), reverse=True)\n",
    "    \n",
    "    return sub_list[:top_n]"
   ]
  },
  {
   "cell_type": "markdown",
   "metadata": {},
   "source": [
    "<p style=\"font-size:20px\">Generate Most Popular Subreddits</p>\n",
    "<p style=\"font-size:16px\">The activity in the most popular subreddits tends to be evenly distributed among most users and, due to their huge popularity, mask more interesting interactions among subreddit comments.</p>\n",
    "<p style=\"font-size:16px\">I've manually identified a list of popular subreddits to ensure they are not removed so their relationships can still be examined</p>"
   ]
  },
  {
   "cell_type": "code",
   "execution_count": 180,
   "metadata": {
    "collapsed": false
   },
   "outputs": [
    {
     "name": "stdout",
     "output_type": "stream",
     "text": [
      "askreddit 282367\n",
      "worldnews 79056\n",
      "funny 77059\n",
      "videos 75245\n",
      "pics 71535\n",
      "todayilearned 68954\n",
      "news 68119\n",
      "gifs 47239\n",
      "showerthoughts 38947\n",
      "aww 37899\n",
      "mildlyinteresting 34637\n",
      "wtf 29796\n",
      "adviceanimals 27080\n",
      "place 24271\n",
      "oldschoolcool 21027\n",
      "jokes 20536\n",
      "lifeprotips 19182\n",
      "iama 18933\n",
      "technology 18746\n",
      "nottheonion 18716\n",
      "dota2 16749\n",
      "explainlikeimfive 15846\n",
      "me_irl 15240\n",
      "interestingasfuck 15115\n",
      "trashy 14458\n",
      "dankmemes 13803\n",
      "android 12656\n",
      "tifu 12454\n",
      "prequelmemes 12283\n",
      "futurology 10964\n",
      "30\n"
     ]
    }
   ],
   "source": [
    "include_list = set([\"politics\",\"the_donald\",\"rickandmorty\",\"anime\",\"pcmasterrace\",\n",
    "                    \"dataisbeautiful\",\"thewalkingdead\",\"dbzdokkanbattle\",\n",
    "                    \"fireemblemheroes\",\"globaloffensivetrade\",\"hiphopheads\",\n",
    "                    \"relationships\",\"europe\",\"forhonor\",\"conspiracy\",\"nba\",\"hockey\",\n",
    "                    \"squaredcircle\",\"soccer\",\"nfl\",\"mma\",\"rupaulsdragrace\",\"fifa\",\n",
    "                    \"teenagers\",\"baseball\",\"france\",\"ukpolitics\",\"canada\",\"trees\",\"gonewild\",\n",
    "                    \"philippines\",\"cringeanarchy\",\"magictcg\",\"buildapc\",\"television\",\n",
    "                    \"starwars\",\"blackpeopletwitter\",\"india\",\"formula1\",\"askmen\",\n",
    "                    \"unitedkingdom\",\"cfb\",\"survivor\",\"askwomen\",\"dnd\",\"de\",\"exmormon\",\n",
    "                    \"collegebasketball\",\"drugs\",\"okcupid\",\"kotakuinaction\",\"roastme\",\n",
    "                    \"fantasybaseball\",\"books\",\"random_acts_of_amazon\",\"casualconversation\",\n",
    "                    \"bigbrother\",\"guns\",\"atheism\",\"motorcycles\",\"argentina\",\"australia\",\n",
    "                    \"electronic_cigarette\",\"loseit\",\"mls\",\"cricket\",\"gaming\",\"hearthstone\",\n",
    "                    \"leagueoflegends\",\"overwatch\",\"globaloffensive\",\"games\",\"nintendoswitch\",\n",
    "                    \"sports\",\"music\",\"personalfinance\",\"food\",\"movies\",\"wow\",\"2007scape\"])\n",
    "\n",
    "top_subs = subreddit_reducer(reduced_threshold, top_n=68)\n",
    "subs_to_ignore = []\n",
    "for i in top_subs:\n",
    "    if i[0] not in include_list:\n",
    "        subs_to_ignore.append(i[0])\n",
    "        print (i[0], i[1])\n",
    "\n",
    "print (len(subs_to_ignore))\n",
    "subs_to_ignore = set(subs_to_ignore)"
   ]
  },
  {
   "cell_type": "markdown",
   "metadata": {},
   "source": [
    "<p style=\"font-size:20px\">Remove comments from the most popular subreddits</p>\n",
    "<p style=\"font-size:15px\">The activity in these subreddits tends to be distributed evenly among most users<br>\n",
    "and consequently masks more interesting interactions when looking at the most commented subs for a user.</p>"
   ]
  },
  {
   "cell_type": "code",
   "execution_count": 181,
   "metadata": {
    "collapsed": false
   },
   "outputs": [
    {
     "name": "stdout",
     "output_type": "stream",
     "text": [
      "Number of comments in original data: 6245692\n",
      "Number of comments after removing popular subs: 5026780\n",
      "Wall time: 2.25 s\n"
     ]
    }
   ],
   "source": [
    "%%time\n",
    "dataset = []\n",
    "for tup in reduced_threshold:\n",
    "    # if the comment isn't in subs_to_ignore\n",
    "    # we will include it in the analysis\n",
    "    if tup[0] not in subs_to_ignore:\n",
    "        dataset.append(tup)\n",
    "print (\"Number of comments in original data: {0}\\n\\\n",
    "Number of comments after removing popular subs: {1}\".format(len(reduced_threshold), len(dataset)))"
   ]
  },
  {
   "cell_type": "markdown",
   "metadata": {},
   "source": [
    "<p style=\"font-size:20px\">Sort Output</p>\n",
    "<p style=\"font-size:15px\">By author, count, subreddit</p>"
   ]
  },
  {
   "cell_type": "code",
   "execution_count": 182,
   "metadata": {
    "collapsed": false
   },
   "outputs": [
    {
     "name": "stdout",
     "output_type": "stream",
     "text": [
      "Wall time: 10.6 s\n"
     ]
    }
   ],
   "source": [
    "%%time\n",
    "dataset.sort(key = operator.itemgetter(1,2,0))"
   ]
  },
  {
   "cell_type": "markdown",
   "metadata": {},
   "source": [
    "<p style=\"font-size:20px\">Structure of dataset:</p>\n",
    "<p style=\"font-size:15px\">SUBREDDIT <b>|</b> AUTHOR <b>|</b> COMMENT COUNT <b>|</b> SCORE<br>"
   ]
  },
  {
   "cell_type": "markdown",
   "metadata": {},
   "source": [
    "<p style=\"font-size:20px\">Create two data sets:\n",
    "<br>Most Commented (With Positive Score) Subreddit By Author\n",
    "<br>Most Commented (With Negative Score) Subreddit By Author</p>"
   ]
  },
  {
   "cell_type": "code",
   "execution_count": 183,
   "metadata": {
    "collapsed": false
   },
   "outputs": [
    {
     "name": "stdout",
     "output_type": "stream",
     "text": [
      "Favorite Author Comments: 1821082\n",
      "Favorite Troll Comments: 149478\n",
      "Wall time: 4.87 s\n"
     ]
    }
   ],
   "source": [
    "%%time\n",
    "# Initialize empty dicts\n",
    "auth_fav_sub = {}\n",
    "auth_troll_sub = {}\n",
    "\n",
    "for tup in dataset:\n",
    "    # This method relies on using a sorted list\n",
    "    # of tuples, sorted by author:count:subreddit\n",
    "    \n",
    "    # Get author\n",
    "    auth = tup[1]\n",
    "    \n",
    "    # Determine if the comment is for\n",
    "    # a favorite sub or a troll sub\n",
    "    # The check here is if the score is positive\n",
    "    if tup[3] >= 0:\n",
    "        if auth in auth_fav_sub:\n",
    "            # if author is in the dict\n",
    "            # check if comment count is\n",
    "            # greater than the new one\n",
    "            if auth_fav_sub[auth][1] < tup[2]:\n",
    "                auth_fav_sub[auth] = (tup[0], tup[2], tup[3])\n",
    "        else:\n",
    "            # if the author is not in the dict\n",
    "            # add his name along with the sub and count\n",
    "            auth_fav_sub[auth] = (tup[0], tup[2], tup[3])\n",
    "    \n",
    "    # This comment must be for a troll sub\n",
    "    # Check that the score is negative\n",
    "    if tup[3] < 0:\n",
    "        if auth in auth_troll_sub:\n",
    "            # if author is in the dict\n",
    "            # check if comment count is\n",
    "            # greater than the new one\n",
    "            if auth_troll_sub[auth][1] < tup[2]:\n",
    "                auth_troll_sub[auth] = (tup[0], tup[2], tup[3])\n",
    "        else:\n",
    "            # if the author is not in the dict\n",
    "            # add his name along with the sub and count\n",
    "            auth_troll_sub[auth] = (tup[0], tup[2], tup[3])\n",
    "\n",
    "print(\"Favorite Author Comments: {0}\".format(len(auth_fav_sub)))\n",
    "print(\"Favorite Troll Comments: {0}\".format(len(auth_troll_sub)))"
   ]
  },
  {
   "cell_type": "markdown",
   "metadata": {},
   "source": [
    "<p style=\"font-size:20px\">Generate List of Authors By Their Favorite Subreddits (auth_by_fave_sub) or caves (auth_by_troll_sub)</p>\n",
    "<p style=\"font-size:15px\">These are lists of authors who have the most comments in a particular subreddit<br>\n",
    "with a positive total score for those comments in the particular subreddit<br>\n",
    "<b>OR</b> Trolls who have the most comments in a particular subreddit with a total negative score.</p>"
   ]
  },
  {
   "cell_type": "code",
   "execution_count": 259,
   "metadata": {
    "collapsed": true
   },
   "outputs": [],
   "source": [
    "# Set the identifying subreddit to investigate\n",
    "subreddit = 'python'"
   ]
  },
  {
   "cell_type": "code",
   "execution_count": 260,
   "metadata": {
    "collapsed": false
   },
   "outputs": [
    {
     "name": "stdout",
     "output_type": "stream",
     "text": [
      "Wall time: 1.22 s\n"
     ]
    }
   ],
   "source": [
    "%%time\n",
    "# auth_fav_sub and auth_troll_sub are structured accordingly:\n",
    "# {'author': ('subreddit', count, totalscore)}\n",
    "\n",
    "# Find the authors based on a user-defined\n",
    "# variable indicating their favorite subreddit\n",
    "\n",
    "auth_by_fave_sub = []\n",
    "for k,v in auth_fav_sub.items():\n",
    "    # if the comment is for our designated subreddit\n",
    "    # and the number of comments (v[1]) is above a threshold\n",
    "    if str(v[0]) == subreddit and v[1] > 1:\n",
    "        #print('Author: {0}\\tSub: {1}\\t\\tCount: {2}'.format(k, v[0], v[1]))\n",
    "        auth_by_fave_sub.append(k)\n",
    "auth_by_fave_sub = set(auth_by_fave_sub)\n",
    "\n",
    "##################################\n",
    "### Do the same for the trolls ###\n",
    "##################################\n",
    "\n",
    "auth_by_troll_sub = []\n",
    "for k,v in auth_troll_sub.items():\n",
    "    # if the comment is for our designated subreddit\n",
    "    # and the number of comments (v[1]) is above a threshold\n",
    "    if str(v[0]) == subreddit and v[1] > 1:\n",
    "        #print('Author: {0}\\tSub: {1}\\t\\tCount: {2}'.format(k, v[0], v[1]))\n",
    "        auth_by_troll_sub.append(k)\n",
    "auth_by_troll_sub = set(auth_by_troll_sub)"
   ]
  },
  {
   "cell_type": "markdown",
   "metadata": {},
   "source": [
    "<p style=\"font-size:20px\">Generate Sub-Lists</p>\n",
    "<p style=\"font-size:15px\">Include only comments from authors in auth_by_fave_sub. <br>\n",
    "Remove their comments associated with their favorite subreddit<br>\n",
    "We're looking to identify \"the rest\" of their comments and associated counts</p>"
   ]
  },
  {
   "cell_type": "code",
   "execution_count": 261,
   "metadata": {
    "collapsed": false
   },
   "outputs": [
    {
     "name": "stdout",
     "output_type": "stream",
     "text": [
      "Redditors whose FAVORITE sub is python: 96\n",
      "They also comment in this many subs: 161\n",
      "They also comment POSITIVELY in this many subs: 155\n",
      "They also comment NEGATIVELY in this many subs: 6\n",
      "------------------------------------------------------\n",
      "Redditors whose TROLLIEST sub is python: 6\n",
      "They also comment in this many subs: 25\n",
      "They also comment POSITIVELY in this many subs: 24\n",
      "They also comment NEGATIVELY in this many subs: 1\n",
      "Wall time: 1.73 s\n"
     ]
    }
   ],
   "source": [
    "%%time\n",
    "authors_other_comments = []\n",
    "authors_other_pos_comments = []\n",
    "authors_other_neg_comments = []\n",
    "\n",
    "trolls_other_comments = []\n",
    "trolls_other_pos_comments = []\n",
    "trolls_other_neg_comments = []\n",
    "\n",
    "# Loop through the entire data set by each comment\n",
    "for line in dataset:\n",
    "    # Only consider comments made by the author whose favorite sub we are interested in\n",
    "    if line[1] in auth_by_fave_sub:\n",
    "        # Only consider the comment if it is for one of their \"non-favorite\" subs\n",
    "        if line[0] != subreddit:\n",
    "            authors_other_comments.append(line)\n",
    "            # If the set of subreddit comments is positive\n",
    "            if line[3] > 0:\n",
    "                authors_other_pos_comments.append(line)\n",
    "            # If the set of subreddit comments is negative\n",
    "            elif line[3] < 0:\n",
    "                authors_other_neg_comments.append(line)\n",
    "\n",
    "\n",
    "    ##################################\n",
    "    ### Do the same for the trolls ###\n",
    "    ##################################\n",
    "    \n",
    "    # Only consider comments made by the author whose troll sub we are interested in\n",
    "    if line[1] in auth_by_troll_sub:\n",
    "        # Only consider the comment if it is for one of their \"non-trolliest\" subs\n",
    "        if line[0] != subreddit:\n",
    "            #print (line)\n",
    "            trolls_other_comments.append(line)\n",
    "            # If the set of subreddit comments is positive\n",
    "            if line[3] > 0:\n",
    "                trolls_other_pos_comments.append(line)\n",
    "            # If the set of subreddit comments is negative\n",
    "            elif line[3] < 0:\n",
    "                trolls_other_neg_comments.append(line)\n",
    "\n",
    "print(\"Redditors whose FAVORITE sub is {0}: {1}\".format(subreddit, len(auth_by_fave_sub)))\n",
    "print(\"They also comment in this many subs: {0}\".format(len(authors_other_comments)))\n",
    "print(\"They also comment POSITIVELY in this many subs: {0}\".format(len(authors_other_pos_comments)))\n",
    "print(\"They also comment NEGATIVELY in this many subs: {0}\".format(len(authors_other_neg_comments)))\n",
    "print(\"------------------------------------------------------\")\n",
    "print(\"Redditors whose TROLLIEST sub is {0}: {1}\".format(subreddit, len(auth_by_troll_sub)))\n",
    "print(\"They also comment in this many subs: {0}\".format(len(trolls_other_comments)))\n",
    "print(\"They also comment POSITIVELY in this many subs: {0}\".format(len(trolls_other_pos_comments)))\n",
    "print(\"They also comment NEGATIVELY in this many subs: {0}\".format(len(trolls_other_neg_comments)))"
   ]
  },
  {
   "cell_type": "markdown",
   "metadata": {},
   "source": [
    "<p style=\"font-size:20px\">Generate Text Output</p>"
   ]
  },
  {
   "cell_type": "code",
   "execution_count": 262,
   "metadata": {
    "collapsed": false
   },
   "outputs": [
    {
     "name": "stdout",
     "output_type": "stream",
     "text": [
      "----------------------------------------------------------------------------\n",
      "People who are upvoted often in python, get positive responses in these subs:\n",
      "----------------------------------------------------------------------------\n",
      "Sub: programming\tNumber of Comments: 17\tAvg Score: 27.470588235294116\n",
      "Sub: linux\tNumber of Comments: 13\tAvg Score: 10.0\n",
      "Sub: learnpython\tNumber of Comments: 11\tAvg Score: 9.545454545454545\n",
      "Sub: politics\tNumber of Comments: 10\tAvg Score: 16.0\n",
      "Sub: ubuntu\tNumber of Comments: 5\tAvg Score: 22.4\n",
      "Sub: weather\tNumber of Comments: 5\tAvg Score: 7.0\n",
      "Sub: surfing\tNumber of Comments: 5\tAvg Score: 12.2\n",
      "Sub: devops\tNumber of Comments: 4\tAvg Score: 2.75\n",
      "Sub: java\tNumber of Comments: 4\tAvg Score: 6.75\n",
      "Sub: sharks\tNumber of Comments: 3\tAvg Score: 29.666666666666668\n",
      "Sub: vim\tNumber of Comments: 3\tAvg Score: 7.333333333333333\n",
      "Sub: webdev\tNumber of Comments: 3\tAvg Score: 8.666666666666666\n",
      "Sub: datascience\tNumber of Comments: 3\tAvg Score: 6.0\n",
      "Sub: europe\tNumber of Comments: 3\tAvg Score: 16.666666666666668\n",
      "Sub: compsci\tNumber of Comments: 3\tAvg Score: 10.0\n"
     ]
    }
   ],
   "source": [
    "pos_subcounts = {}\n",
    "neg_subcounts = {}\n",
    "for i in authors_other_pos_comments:\n",
    "    sub = i[0]\n",
    "    count = i[2]\n",
    "    sub_score = int(i[3])\n",
    "    \n",
    "    if sub_score > 0:\n",
    "        if sub in pos_subcounts:\n",
    "            pos_subcounts[sub][0] += count\n",
    "            pos_subcounts[sub][1] += sub_score\n",
    "        else:\n",
    "            pos_subcounts[sub] = [count, sub_score]\n",
    "\n",
    "print (\"----------------------------------------------------------------------------\")\n",
    "print (\"People who are upvoted often in {0}, get positive responses in these subs:\".format(subreddit))\n",
    "print (\"----------------------------------------------------------------------------\")\n",
    "\n",
    "top_pos_others = []\n",
    "for k,v in pos_subcounts.items():\n",
    "    # v[0] is the number of comments in a specific subreddit\n",
    "    # we want to ensure this meets a minimum threshold\n",
    "    if v[0] >= 2:\n",
    "        # Calculate the average score for the subreddit\n",
    "        # and append it to the list\n",
    "        top_pos_others.append((k, v[0], v[1]/v[0]))\n",
    "top_pos_others.sort(key = operator.itemgetter(1),reverse=True)\n",
    "\n",
    "for i in top_pos_others[:15]:\n",
    "    print (\"Sub: {0}\\tNumber of Comments: {1}\\tAvg Score: {2}\".format(i[0], i[1], i[2]))\n"
   ]
  },
  {
   "cell_type": "code",
   "execution_count": 263,
   "metadata": {
    "collapsed": false
   },
   "outputs": [
    {
     "data": {
      "image/png": "[encoded data removed]",
      "text/plain": [
       "<matplotlib.figure.Figure at 0x1ee6a781ba8>"
      ]
     },
     "metadata": {},
     "output_type": "display_data"
    }
   ],
   "source": [
    "fig = plt.figure(figsize=(18, 14))\n",
    "plt.figtext(.5,.92,\n",
    "            \"Redditors upvoted often in {0}, \\nget positive responses in these subs:\".format(subreddit),\n",
    "            fontsize=30, ha='center')\n",
    "ax = fig.add_subplot(1, 1, 1, xticks=[], yticks=[])\n",
    "\n",
    "colors = [\"#FF0000\", \"#FF4000\", \"#FF8000\", \"#FFBF00\", \"#FFFF00\"]\n",
    "\n",
    "first_flows = [100]\n",
    "first_labels = [subreddit]\n",
    "first_orientations = [0]#,1,1,1,-1,-1\n",
    "first_pathlength = [0.25]\n",
    "n=8\n",
    "tot = 0\n",
    "for i in top_pos_others[0:n]:\n",
    "    tot += i[1]\n",
    "for i in top_pos_others[0:n]:\n",
    "    first_flows.append(-100*(i[1]/tot))\n",
    "for i in top_pos_others[0:n]:\n",
    "    first_labels.append(i[0])\n",
    "\n",
    "# find midpoint for paths\n",
    "midpoint = math.ceil(n/2)\n",
    "top_path_length = .4\n",
    "for i in top_pos_others[0:n]:\n",
    "    if midpoint > 0:\n",
    "        first_pathlength.append(top_path_length)\n",
    "        top_path_length -= 0.1\n",
    "        midpoint -= 1\n",
    "    else:\n",
    "        first_pathlength.append(top_path_length)\n",
    "        top_path_length += 0.1\n",
    "\n",
    "midpoint = math.ceil(n/2)\n",
    "for i in top_pos_others[0:n]:\n",
    "    if midpoint > 0:\n",
    "        first_orientations.append(1)\n",
    "        midpoint -= 1\n",
    "    else:\n",
    "        first_orientations.append(-1)\n",
    "\n",
    "sankey = Sankey(ax=ax, scale=0.005, offset=0., format='%.01f', unit='%')\n",
    "sankey.add(flows = first_flows,\n",
    "           labels = first_labels,\n",
    "           orientations = first_orientations,\n",
    "           pathlengths = first_pathlength,\n",
    "           trunklength = 1.5,\n",
    "           facecolor = colors[2])\n",
    "\n",
    "diagrams = sankey.finish()\n",
    "for text in diagrams[0].texts:\n",
    "    text.set_fontsize('20')"
   ]
  }
 ],
 "metadata": {
  "kernelspec": {
   "display_name": "Python [Root]",
   "language": "python",
   "name": "Python [Root]"
  },
  "language_info": {
   "codemirror_mode": {
    "name": "ipython",
    "version": 3
   },
   "file_extension": ".py",
   "mimetype": "text/x-python",
   "name": "python",
   "nbconvert_exporter": "python",
   "pygments_lexer": "ipython3",
   "version": "3.5.1"
  }
 },
 "nbformat": 4,
 "nbformat_minor": 0
}
